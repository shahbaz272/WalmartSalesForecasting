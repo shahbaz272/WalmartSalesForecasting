{
 "cells": [
  {
   "cell_type": "markdown",
   "metadata": {},
   "source": [
    "__Import libraries__"
   ]
  },
  {
   "cell_type": "code",
   "execution_count": 1,
   "metadata": {},
   "outputs": [],
   "source": [
    "%matplotlib inline\n",
    "import pandas as pd\n",
    "import numpy as np\n",
    "import matplotlib.pyplot as plt\n",
    "import seaborn as sns\n",
    "import matplotlib.dates as mdates\n",
    "from sklearn.impute import SimpleImputer\n",
    "from sklearn.preprocessing import OneHotEncoder\n",
    "from sklearn.compose import ColumnTransformer\n",
    "from sklearn.model_selection import train_test_split\n",
    "from sklearn.pipeline import Pipeline\n",
    "from sklearn.model_selection import KFold\n",
    "from xgboost import XGBRegressor\n",
    "from sklearn.metrics import mean_absolute_error\n",
    "from sklearn.metrics import make_scorer\n",
    "from sklearn.model_selection import GridSearchCV\n",
    "from sklearn.model_selection import StratifiedKFold\n",
    "from sklearn.model_selection import TimeSeriesSplit\n",
    "from sklearn.model_selection import cross_val_score\n",
    "from xgboost import plot_importance\n",
    "from math import ceil\n"
   ]
  },
  {
   "cell_type": "markdown",
   "metadata": {},
   "source": [
    "## Helper functions"
   ]
  },
  {
   "cell_type": "code",
   "execution_count": 2,
   "metadata": {},
   "outputs": [],
   "source": [
    "def create_date_features(df):\n",
    "    \n",
    "    df['quarter'] = df['Date'].dt.quarter\n",
    "    df['month'] = df['Date'].dt.month\n",
    "    df['year'] = df['Date'].dt.year\n",
    "    #df['dayofyear'] = df['Date'].dt.dayofyear\n",
    "    df['weekofyear'] = df['Date'].dt.weekofyear\n",
    "    \n",
    "    \n",
    "\n",
    "    def week_of_month(dt):\n",
    "        \"\"\" Returns the week of the month for the specified date.\n",
    "        \"\"\"\n",
    "\n",
    "        first_day = dt.replace(day=1)\n",
    "\n",
    "        dom = dt.day\n",
    "        adjusted_dom = dom + first_day.weekday()\n",
    "\n",
    "        return int(ceil(adjusted_dom/7.0))\n",
    "    \n",
    "    df['weekofmonth'] = df['Date'].apply(week_of_month)\n",
    "    \n",
    "    return df"
   ]
  },
  {
   "cell_type": "code",
   "execution_count": 3,
   "metadata": {},
   "outputs": [],
   "source": [
    "def till_func(x,holiday_dates):\n",
    "    return min([diff for diff in (x-holiday_dates).days if diff>=0],default=-1)//7\n",
    "\n",
    "def since_func(x,holiday_dates):\n",
    "    return abs(max([diff for diff in (x-holiday_dates).days if diff<=0],default=-1)//7)\n",
    "\n",
    "\n",
    "def add_since_till_holiday_feature(df,feature_name,holiday_dates,till_since_func,date_column='Date'):\n",
    "    data = df.copy()\n",
    "    data = data.assign(new_col=data['Date'].apply(till_since_func,args=(holiday_dates,)))\n",
    "    data.rename(columns = {'new_col':feature_name},inplace=True)\n",
    "    return data"
   ]
  },
  {
   "cell_type": "code",
   "execution_count": 4,
   "metadata": {},
   "outputs": [],
   "source": [
    "def one_hot_encoding(train,test,cat_features):\n",
    "    ohe = OneHotEncoder()\n",
    "    \n",
    "    ohe_train = ohe.fit_transform(train[cat_features]).toarray()\n",
    "    ohe_train = pd.DataFrame(ohe_train,columns=ohe.get_feature_names())\n",
    "    train.drop(cat_features,axis=1,inplace=True)\n",
    "    train.reset_index(drop=True,inplace=True)\n",
    "    train = pd.concat([train,ohe_train],axis=1)\n",
    "    \n",
    "    ohe_test = ohe.transform(test[cat_features]).toarray()\n",
    "    ohe_test = pd.DataFrame(ohe_test,columns=ohe.get_feature_names())\n",
    "    test.drop(cat_features,axis=1,inplace=True)\n",
    "    test.reset_index(drop=True,inplace=True)\n",
    "    test = pd.concat([test,ohe_test],axis=1)\n",
    "    \n",
    "    return (train,test)"
   ]
  },
  {
   "cell_type": "code",
   "execution_count": 5,
   "metadata": {},
   "outputs": [],
   "source": [
    "def imputing(train,test,num_features):\n",
    "    imputer = SimpleImputer(strategy='constant',fill_value=0)\n",
    "\n",
    "    imp_train = pd.DataFrame(imputer.fit_transform(train[num_features]),columns=num_features)\n",
    "    train[num_features] = imp_train\n",
    "    \n",
    "    imp_test = pd.DataFrame(imputer.transform(test[num_features]),columns=num_features)\n",
    "    test[num_features] = imp_test\n",
    "    \n",
    "    return train,test"
   ]
  },
  {
   "cell_type": "code",
   "execution_count": 6,
   "metadata": {},
   "outputs": [],
   "source": [
    "def get_store(data,store=None,dept=None):\n",
    "    \n",
    "    if ((store == None) & (dept == None)):\n",
    "        print('Enter something atleast')\n",
    "    \n",
    "    if (dept == None):\n",
    "        return data[(data.Store==store)]\n",
    "    \n",
    "    if (store == None):\n",
    "        return data[(data.Dept==dept)]\n",
    "    \n",
    "    else:\n",
    "        return data[(data.Store==store)&(data.Dept==dept)]"
   ]
  },
  {
   "cell_type": "code",
   "execution_count": 7,
   "metadata": {},
   "outputs": [],
   "source": [
    "def custom_loss_scorer(estimator,X,y):\n",
    "    weight_array = np.where(X.IsHoliday==True,5,1)\n",
    "    preds = estimator.predict(X)\n",
    "    error = np.mean(weight_array*np.abs(y-preds))\n",
    "    \n",
    "    return -(error)"
   ]
  },
  {
   "cell_type": "code",
   "execution_count": 8,
   "metadata": {},
   "outputs": [],
   "source": [
    "def create_lag_features(df,lags):\n",
    "    lags = range(39, lags+1)  # Just two lags for demonstration.\n",
    "\n",
    "    df = df.assign(**{'Weekly_sales(t-{})'.format(t): df.groupby(['Store','Dept']).Weekly_sales.shift(t) for t in lags})\n",
    "\n",
    "    return df"
   ]
  },
  {
   "cell_type": "code",
   "execution_count": 9,
   "metadata": {},
   "outputs": [],
   "source": [
    "def create_window_features(df,lags):\n",
    "    lags = range(39, lags+1)\n",
    "\n",
    "    df = df.assign(**{'rolling_mean_{}'.format(t): df.groupby(['Store','Dept'])['Weekly_sales'].rolling(t,min_periods=1).mean().reset_index(drop=True) for t in lags})\n",
    "\n",
    "    return df"
   ]
  },
  {
   "cell_type": "code",
   "execution_count": 10,
   "metadata": {},
   "outputs": [],
   "source": [
    "def wmse(pred,ws,isholiday):\n",
    "    weights = np.where(isholiday,5,1)\n",
    "    return np.mean(weights*np.abs(pred-ws))"
   ]
  },
  {
   "cell_type": "markdown",
   "metadata": {},
   "source": [
    "__Import Data__"
   ]
  },
  {
   "cell_type": "code",
   "execution_count": 11,
   "metadata": {},
   "outputs": [],
   "source": [
    "features = pd.read_csv('walmart-recruiting-store-sales-forecasting/features.csv',parse_dates=[1])\n",
    "stores = pd.read_csv('walmart-recruiting-store-sales-forecasting/stores.csv')\n",
    "test = pd.read_csv('walmart-recruiting-store-sales-forecasting/test.csv',parse_dates=[2])\n",
    "train = pd.read_csv('walmart-recruiting-store-sales-forecasting/train.csv',parse_dates=[2])"
   ]
  },
  {
   "cell_type": "markdown",
   "metadata": {},
   "source": [
    "__Merge data into 1 DataFrame__"
   ]
  },
  {
   "cell_type": "code",
   "execution_count": 12,
   "metadata": {},
   "outputs": [],
   "source": [
    "train_data = pd.merge(left=pd.merge(left=train,right=stores,how='left'),right=features,how='left',on=['Store','Date','IsHoliday'])\n",
    "test_data = pd.merge(left = pd.merge(left=test,right=stores,how='left'),right=features,how='left',on = ['Store','Date','IsHoliday'])"
   ]
  },
  {
   "cell_type": "markdown",
   "metadata": {},
   "source": [
    "__Add Features__"
   ]
  },
  {
   "cell_type": "code",
   "execution_count": 13,
   "metadata": {},
   "outputs": [],
   "source": [
    "train_data['CPI_cat'] = np.where(train_data.CPI<160,'LowCPI','HighCPI')\n",
    "test_data['CPI_cat'] = np.where(test_data.CPI<160,'LowCPI','HighCPI')\n",
    "\n",
    "train_data['Size_cat'] = np.where(train_data.Size<75000,'Small_Size',np.where(train_data.Size<175000,'Mid_Size','High_Size'))\n",
    "test_data['Size_cat'] = np.where(test_data.Size<75000,'Small_Size',np.where(test_data.Size<175000,'Mid_Size','High_Size'))"
   ]
  },
  {
   "cell_type": "code",
   "execution_count": 14,
   "metadata": {},
   "outputs": [],
   "source": [
    "sb_dates = pd.to_datetime(['2010-02-12','2011-02-11','2012-02-10','2013-02-08'])\n",
    "labor_dates = pd.to_datetime(['2010-09-10','2011-09-09','2012-09-07','2013-09-06'])\n",
    "thanksgiving_dates = pd.to_datetime(['2010-11-26','2011-11-25','2012-11-23','2013-11-29'])\n",
    "christmas_dates = pd.to_datetime(['2010-12-31','2011-12-30','2012-12-28','2013-12-27'])\n",
    "\n",
    "\n",
    "\n",
    "train_data['Which_Holiday'] = 'NoHoliday'\n",
    "train_data.loc[(np.isin(train_data[['Date']].values, sb_dates.values).reshape(-1)),'Which_Holiday'] = 'Super_Bowl'\n",
    "train_data.loc[(np.isin(train_data[['Date']].values, labor_dates.values).reshape(-1)),'Which_Holiday'] = 'Labor_Day'\n",
    "train_data.loc[(np.isin(train_data[['Date']].values, thanksgiving_dates.values).reshape(-1)),'Which_Holiday'] = 'Thanksgiving'\n",
    "train_data.loc[(np.isin(train_data[['Date']].values, christmas_dates.values).reshape(-1)),'Which_Holiday'] = 'Christmas'\n",
    "\n",
    "test_data['Which_Holiday'] = 'NoHoliday'\n",
    "test_data.loc[(np.isin(test_data[['Date']].values, sb_dates.values).reshape(-1)),'Which_Holiday'] = 'Super_Bowl'\n",
    "test_data.loc[(np.isin(test_data[['Date']].values, labor_dates.values).reshape(-1)),'Which_Holiday'] = 'Labor_Day'\n",
    "test_data.loc[(np.isin(test_data[['Date']].values, thanksgiving_dates.values).reshape(-1)),'Which_Holiday'] = 'Thanksgiving'\n",
    "test_data.loc[(np.isin(test_data[['Date']].values, christmas_dates.values).reshape(-1)),'Which_Holiday'] = 'Christmas'\n"
   ]
  },
  {
   "cell_type": "markdown",
   "metadata": {},
   "source": [
    "__Create data for log scaled target__"
   ]
  },
  {
   "cell_type": "code",
   "execution_count": 15,
   "metadata": {},
   "outputs": [
    {
     "name": "stderr",
     "output_type": "stream",
     "text": [
      "C:\\Users\\shahb\\AnacondaPython\\lib\\site-packages\\pandas\\core\\indexing.py:362: SettingWithCopyWarning: \n",
      "A value is trying to be set on a copy of a slice from a DataFrame.\n",
      "Try using .loc[row_indexer,col_indexer] = value instead\n",
      "\n",
      "See the caveats in the documentation: http://pandas.pydata.org/pandas-docs/stable/indexing.html#indexing-view-versus-copy\n",
      "  self.obj[key] = _infer_fill_value(value)\n",
      "C:\\Users\\shahb\\AnacondaPython\\lib\\site-packages\\pandas\\core\\indexing.py:543: SettingWithCopyWarning: \n",
      "A value is trying to be set on a copy of a slice from a DataFrame.\n",
      "Try using .loc[row_indexer,col_indexer] = value instead\n",
      "\n",
      "See the caveats in the documentation: http://pandas.pydata.org/pandas-docs/stable/indexing.html#indexing-view-versus-copy\n",
      "  self.obj[item] = s\n"
     ]
    }
   ],
   "source": [
    "train_log = train_data[train_data.Weekly_Sales>0]\n",
    "train_log.loc[:,'Weekly_Sales_log'] = np.log(train_log.Weekly_Sales)"
   ]
  },
  {
   "cell_type": "markdown",
   "metadata": {},
   "source": [
    "__Seperating targets__"
   ]
  },
  {
   "cell_type": "code",
   "execution_count": 16,
   "metadata": {},
   "outputs": [
    {
     "name": "stderr",
     "output_type": "stream",
     "text": [
      "C:\\Users\\shahb\\AnacondaPython\\lib\\site-packages\\pandas\\core\\frame.py:3940: SettingWithCopyWarning: \n",
      "A value is trying to be set on a copy of a slice from a DataFrame\n",
      "\n",
      "See the caveats in the documentation: http://pandas.pydata.org/pandas-docs/stable/indexing.html#indexing-view-versus-copy\n",
      "  errors=errors)\n"
     ]
    }
   ],
   "source": [
    "weekly_sales = train_data.Weekly_Sales\n",
    "weekly_sales_log = train_log.Weekly_Sales_log\n",
    "weekly_sales_log_org = train_log.Weekly_Sales\n",
    "\n",
    "train_data.drop('Weekly_Sales',axis=1,inplace=True)\n",
    "train_log.drop(['Weekly_Sales_log','Weekly_Sales'],axis=1,inplace=True)\n"
   ]
  },
  {
   "cell_type": "code",
   "execution_count": 17,
   "metadata": {},
   "outputs": [],
   "source": [
    "sb_dates = pd.to_datetime(['2010-02-12','2011-02-11','2012-02-10','2013-02-08'])\n",
    "labor_dates = pd.to_datetime(['2010-09-10','2011-09-09','2012-09-07','2013-09-06'])\n",
    "thanksgiving_dates = pd.to_datetime(['2010-11-26','2011-11-25','2012-11-23','2013-11-29'])\n",
    "christmas_dates = pd.to_datetime(['2010-12-31','2011-12-30','2012-12-28','2013-12-27'])\n",
    "\n",
    "holiday_dates = sb_dates.append(labor_dates).append(thanksgiving_dates).append(christmas_dates)"
   ]
  },
  {
   "cell_type": "code",
   "execution_count": 18,
   "metadata": {},
   "outputs": [],
   "source": [
    "all_holiday_dates = [holiday_dates,sb_dates,labor_dates,thanksgiving_dates,christmas_dates]\n",
    "till_feature_names = ['WeeksTillNextHoliday','WeeksTillNextSuperBowl','WeeksTillLaborDay','WeeksTillNextThanksgiving','WeeksTillNextChristmas']\n",
    "since_feature_names = ['WeeksSinceLastHoliday','WeeksSinceLastSuperBowl','WeeksSinceLastLaborDay','WeeksSinceLastThanksgiving','WeeksSinceLastChristmas']                     "
   ]
  },
  {
   "cell_type": "markdown",
   "metadata": {},
   "source": [
    "The following cells have been commented out because it takes a long time for the code to run. So i ran i once and saved the tables. To use it for the first time, this will need to be uncommented"
   ]
  },
  {
   "cell_type": "code",
   "execution_count": 19,
   "metadata": {},
   "outputs": [],
   "source": [
    "##for till_feature,since_feature,dates in (zip(till_feature_names,since_feature_names,all_holiday_dates)):\n",
    "    \n",
    "##    train_data[till_feature] = train_data.Date.apply(till_func,args = (dates,))\n",
    "##    test_data[till_feature] = test_data.Date.apply(till_func,args = (dates,))\n",
    "##    print(\"Completed till feature \" + till_feature)\n",
    "    \n",
    "##    train_data[since_feature] = train_data.Date.apply(since_func,args = (dates,))\n",
    "##    test_data[since_feature] = test_data.Date.apply(since_func,args = (dates,))\n",
    "##    print(\"Completed since feature \" + since_feature)"
   ]
  },
  {
   "cell_type": "code",
   "execution_count": 20,
   "metadata": {},
   "outputs": [],
   "source": [
    "#train_data.to_csv('train_data_holiday_features.csv',index=False)\n",
    "#test_data.to_csv('test_data_holiday_features.csv',index=False)"
   ]
  },
  {
   "cell_type": "code",
   "execution_count": 21,
   "metadata": {},
   "outputs": [],
   "source": [
    "train_data = pd.read_csv('train_data_holiday_features.csv',parse_dates=[2])\n",
    "test_data = pd.read_csv('test_data_holiday_features.csv',parse_dates=[2])\n"
   ]
  },
  {
   "cell_type": "markdown",
   "metadata": {},
   "source": [
    "__Preprocessing__"
   ]
  },
  {
   "cell_type": "code",
   "execution_count": 22,
   "metadata": {},
   "outputs": [],
   "source": [
    "num_features = train_data.columns[np.isin(train_data.dtypes,['int64','float64'])]\n",
    "cat_features = train_data.columns[train_data.dtypes=='object']"
   ]
  },
  {
   "cell_type": "markdown",
   "metadata": {},
   "source": [
    "**OneHotEncoding and Missing value imputation**"
   ]
  },
  {
   "cell_type": "code",
   "execution_count": 23,
   "metadata": {},
   "outputs": [],
   "source": [
    "train_data,test_data = one_hot_encoding(train_data,test_data,cat_features)"
   ]
  },
  {
   "cell_type": "code",
   "execution_count": 24,
   "metadata": {},
   "outputs": [],
   "source": [
    "train_data,test_data = imputing(train_data,test_data,num_features)"
   ]
  },
  {
   "cell_type": "markdown",
   "metadata": {},
   "source": [
    "**Creating date features**"
   ]
  },
  {
   "cell_type": "code",
   "execution_count": 25,
   "metadata": {},
   "outputs": [],
   "source": [
    "X = create_date_features(train_data)\n",
    "test_data = create_date_features(test_data)"
   ]
  },
  {
   "cell_type": "code",
   "execution_count": 26,
   "metadata": {},
   "outputs": [],
   "source": [
    "X_sales = X.copy()\n",
    "X_sales['Weekly_sales'] = weekly_sales\n",
    "#corr_mat = X_sales.corr()"
   ]
  },
  {
   "cell_type": "markdown",
   "metadata": {},
   "source": [
    "**Department contribution feature**"
   ]
  },
  {
   "cell_type": "markdown",
   "metadata": {},
   "source": [
    "This feature is the ratio of each Department's average monthly sales with the Store's average monthly sales. The rational here is that the ratio would be a measure of how much the department's sales contribute to the sales of the store for each month."
   ]
  },
  {
   "cell_type": "code",
   "execution_count": 27,
   "metadata": {},
   "outputs": [],
   "source": [
    "Store_monthly_average = X_sales.groupby(['Store','month']).Weekly_sales.mean().reset_index()\n",
    "Store_dept_monthly_average = X_sales.groupby(['Store','Dept','month']).Weekly_sales.mean().reset_index()\n",
    "monthly_dept_contrib = pd.merge(left=Store_dept_monthly_average,right=Store_monthly_average,on=['Store','month'],how='inner')\n",
    "monthly_dept_contrib.columns = ['Store', 'Dept', 'month', 'Store_Dept_month_avg', 'Store_month_avg']\n",
    "monthly_dept_contrib['dept_contrib'] = monthly_dept_contrib.Store_Dept_month_avg/monthly_dept_contrib.Store_month_avg\n",
    "X_sales = pd.merge(left=X_sales,right=monthly_dept_contrib,on=['Store','Dept','month'],how='left')\n",
    "test_d = pd.merge(left=test_data,right=monthly_dept_contrib,on=['Store','Dept','month'],how='left')"
   ]
  },
  {
   "cell_type": "markdown",
   "metadata": {},
   "source": [
    "### lag and rolling mean features"
   ]
  },
  {
   "cell_type": "code",
   "execution_count": 28,
   "metadata": {},
   "outputs": [],
   "source": [
    "X_sales['set']='Train'\n",
    "test_d['set']='Test'\n",
    "test_d['Weekly_sales']=0"
   ]
  },
  {
   "cell_type": "code",
   "execution_count": 29,
   "metadata": {},
   "outputs": [
    {
     "name": "stderr",
     "output_type": "stream",
     "text": [
      "C:\\Users\\shahb\\AnacondaPython\\lib\\site-packages\\ipykernel_launcher.py:1: FutureWarning: Sorting because non-concatenation axis is not aligned. A future version\n",
      "of pandas will change to not sort by default.\n",
      "\n",
      "To accept the future behavior, pass 'sort=False'.\n",
      "\n",
      "To retain the current behavior and silence the warning, pass 'sort=True'.\n",
      "\n",
      "  \"\"\"Entry point for launching an IPython kernel.\n"
     ]
    }
   ],
   "source": [
    "all_data=pd.concat([X_sales,test_d],ignore_index=True)"
   ]
  },
  {
   "cell_type": "code",
   "execution_count": 30,
   "metadata": {},
   "outputs": [],
   "source": [
    "all_data_lag=create_lag_features(all_data,52)"
   ]
  },
  {
   "cell_type": "code",
   "execution_count": 31,
   "metadata": {},
   "outputs": [],
   "source": [
    "X_lag_sales = create_lag_features(X_sales.copy(),52)"
   ]
  },
  {
   "cell_type": "code",
   "execution_count": 32,
   "metadata": {},
   "outputs": [
    {
     "name": "stderr",
     "output_type": "stream",
     "text": [
      "C:\\Users\\shahb\\AnacondaPython\\lib\\site-packages\\pandas\\core\\frame.py:3940: SettingWithCopyWarning: \n",
      "A value is trying to be set on a copy of a slice from a DataFrame\n",
      "\n",
      "See the caveats in the documentation: http://pandas.pydata.org/pandas-docs/stable/indexing.html#indexing-view-versus-copy\n",
      "  errors=errors)\n"
     ]
    }
   ],
   "source": [
    "X_train = all_data_lag[all_data_lag.set=='Train']\n",
    "X_test = all_data_lag[all_data_lag.set=='Test']\n",
    "\n",
    "y_train = X_train.Weekly_sales\n",
    "X_train.drop(['Weekly_sales','Date','set'],axis=1,inplace=True)\n",
    "X_test.drop(['Weekly_sales','Date','set'],axis=1,inplace=True)"
   ]
  },
  {
   "cell_type": "markdown",
   "metadata": {},
   "source": [
    "## Model Training"
   ]
  },
  {
   "cell_type": "code",
   "execution_count": 33,
   "metadata": {},
   "outputs": [
    {
     "name": "stdout",
     "output_type": "stream",
     "text": [
      "Fitting 4 folds for each of 1 candidates, totalling 4 fits\n"
     ]
    },
    {
     "name": "stderr",
     "output_type": "stream",
     "text": [
      "[Parallel(n_jobs=-1)]: Using backend LokyBackend with 8 concurrent workers.\n",
      "[Parallel(n_jobs=-1)]: Done   4 out of   4 | elapsed: 42.1min remaining:    0.0s\n",
      "[Parallel(n_jobs=-1)]: Done   4 out of   4 | elapsed: 42.1min finished\n",
      "C:\\Users\\shahb\\AnacondaPython\\lib\\site-packages\\xgboost\\core.py:587: FutureWarning: Series.base is deprecated and will be removed in a future version\n",
      "  if getattr(data, 'base', None) is not None and \\\n",
      "C:\\Users\\shahb\\AnacondaPython\\lib\\site-packages\\xgboost\\core.py:588: FutureWarning: Series.base is deprecated and will be removed in a future version\n",
      "  data.base is not None and isinstance(data, np.ndarray) \\\n"
     ]
    },
    {
     "name": "stdout",
     "output_type": "stream",
     "text": [
      "[21:17:14] WARNING: C:/Jenkins/workspace/xgboost-win64_release_0.90/src/objective/regression_obj.cu:152: reg:linear is now deprecated in favor of reg:squarederror.\n",
      "Best score: -2249.225\n",
      "Best parameters set:\n",
      "{'base_score': 0.5, 'booster': 'gbtree', 'colsample_bylevel': 1, 'colsample_bynode': 1, 'colsample_bytree': 1, 'gamma': 0, 'importance_type': 'gain', 'learning_rate': 0.1, 'max_delta_step': 0, 'max_depth': 7, 'min_child_weight': 1, 'missing': None, 'n_estimators': 500, 'n_jobs': -1, 'nthread': None, 'objective': 'reg:linear', 'random_state': 0, 'reg_alpha': 0, 'reg_lambda': 1, 'scale_pos_weight': 1, 'seed': 28, 'silent': None, 'subsample': 0.9, 'verbosity': 1, 'col_sample_bytree': 0.9}\n"
     ]
    }
   ],
   "source": [
    "model = XGBRegressor(max_depth=7,\n",
    "                            col_sample_bytree=0.9,\n",
    "                            min_child_weight=1,\n",
    "                            n_estimators=500,\n",
    "                            subsample=0.9,\n",
    "                            learning_rate=0.1,\n",
    "                            gamma=0,\n",
    "                            n_jobs=-1, seed=28)\n",
    "\n",
    "grid_search = GridSearchCV(estimator=model,\n",
    "                           param_grid={},\n",
    "                           scoring=custom_loss_scorer,\n",
    "                           cv=TimeSeriesSplit(n_splits=4),\n",
    "                           n_jobs=-1,\n",
    "                           verbose=1)\n",
    "\n",
    "grid_search.fit(X_train,y_train)\n",
    "print(\"Best score: %0.3f\" % grid_search.best_score_)\n",
    "print(\"Best parameters set:\")\n",
    "best_parameters=grid_search.best_estimator_.get_params()\n",
    "print(best_parameters)"
   ]
  },
  {
   "cell_type": "code",
   "execution_count": 34,
   "metadata": {},
   "outputs": [
    {
     "name": "stderr",
     "output_type": "stream",
     "text": [
      "C:\\Users\\shahb\\AnacondaPython\\lib\\site-packages\\sklearn\\utils\\deprecation.py:125: FutureWarning: You are accessing a training score ('split0_train_score'), which will not be available by default any more in 0.21. If you need training scores, please set return_train_score=True\n",
      "  warnings.warn(*warn_args, **warn_kwargs)\n",
      "C:\\Users\\shahb\\AnacondaPython\\lib\\site-packages\\sklearn\\utils\\deprecation.py:125: FutureWarning: You are accessing a training score ('split1_train_score'), which will not be available by default any more in 0.21. If you need training scores, please set return_train_score=True\n",
      "  warnings.warn(*warn_args, **warn_kwargs)\n",
      "C:\\Users\\shahb\\AnacondaPython\\lib\\site-packages\\sklearn\\utils\\deprecation.py:125: FutureWarning: You are accessing a training score ('split2_train_score'), which will not be available by default any more in 0.21. If you need training scores, please set return_train_score=True\n",
      "  warnings.warn(*warn_args, **warn_kwargs)\n",
      "C:\\Users\\shahb\\AnacondaPython\\lib\\site-packages\\sklearn\\utils\\deprecation.py:125: FutureWarning: You are accessing a training score ('split3_train_score'), which will not be available by default any more in 0.21. If you need training scores, please set return_train_score=True\n",
      "  warnings.warn(*warn_args, **warn_kwargs)\n",
      "C:\\Users\\shahb\\AnacondaPython\\lib\\site-packages\\sklearn\\utils\\deprecation.py:125: FutureWarning: You are accessing a training score ('mean_train_score'), which will not be available by default any more in 0.21. If you need training scores, please set return_train_score=True\n",
      "  warnings.warn(*warn_args, **warn_kwargs)\n",
      "C:\\Users\\shahb\\AnacondaPython\\lib\\site-packages\\sklearn\\utils\\deprecation.py:125: FutureWarning: You are accessing a training score ('std_train_score'), which will not be available by default any more in 0.21. If you need training scores, please set return_train_score=True\n",
      "  warnings.warn(*warn_args, **warn_kwargs)\n"
     ]
    },
    {
     "data": {
      "text/html": [
       "<div>\n",
       "<style scoped>\n",
       "    .dataframe tbody tr th:only-of-type {\n",
       "        vertical-align: middle;\n",
       "    }\n",
       "\n",
       "    .dataframe tbody tr th {\n",
       "        vertical-align: top;\n",
       "    }\n",
       "\n",
       "    .dataframe thead th {\n",
       "        text-align: right;\n",
       "    }\n",
       "</style>\n",
       "<table border=\"1\" class=\"dataframe\">\n",
       "  <thead>\n",
       "    <tr style=\"text-align: right;\">\n",
       "      <th></th>\n",
       "      <th>mean_fit_time</th>\n",
       "      <th>std_fit_time</th>\n",
       "      <th>mean_score_time</th>\n",
       "      <th>std_score_time</th>\n",
       "      <th>params</th>\n",
       "      <th>split0_test_score</th>\n",
       "      <th>split1_test_score</th>\n",
       "      <th>split2_test_score</th>\n",
       "      <th>split3_test_score</th>\n",
       "      <th>mean_test_score</th>\n",
       "      <th>std_test_score</th>\n",
       "      <th>rank_test_score</th>\n",
       "      <th>split0_train_score</th>\n",
       "      <th>split1_train_score</th>\n",
       "      <th>split2_train_score</th>\n",
       "      <th>split3_train_score</th>\n",
       "      <th>mean_train_score</th>\n",
       "      <th>std_train_score</th>\n",
       "    </tr>\n",
       "  </thead>\n",
       "  <tbody>\n",
       "    <tr>\n",
       "      <th>0</th>\n",
       "      <td>1830.423742</td>\n",
       "      <td>535.227735</td>\n",
       "      <td>7.197275</td>\n",
       "      <td>4.715491</td>\n",
       "      <td>{}</td>\n",
       "      <td>-2768.989998</td>\n",
       "      <td>-2499.302214</td>\n",
       "      <td>-1923.838877</td>\n",
       "      <td>-1804.769011</td>\n",
       "      <td>-2249.225025</td>\n",
       "      <td>398.782999</td>\n",
       "      <td>1</td>\n",
       "      <td>-998.387475</td>\n",
       "      <td>-1289.824671</td>\n",
       "      <td>-1437.472075</td>\n",
       "      <td>-1448.030011</td>\n",
       "      <td>-1293.428558</td>\n",
       "      <td>181.460996</td>\n",
       "    </tr>\n",
       "  </tbody>\n",
       "</table>\n",
       "</div>"
      ],
      "text/plain": [
       "   mean_fit_time  std_fit_time  mean_score_time  std_score_time params  \\\n",
       "0    1830.423742    535.227735         7.197275        4.715491     {}   \n",
       "\n",
       "   split0_test_score  split1_test_score  split2_test_score  split3_test_score  \\\n",
       "0       -2768.989998       -2499.302214       -1923.838877       -1804.769011   \n",
       "\n",
       "   mean_test_score  std_test_score  rank_test_score  split0_train_score  \\\n",
       "0     -2249.225025      398.782999                1         -998.387475   \n",
       "\n",
       "   split1_train_score  split2_train_score  split3_train_score  \\\n",
       "0        -1289.824671        -1437.472075        -1448.030011   \n",
       "\n",
       "   mean_train_score  std_train_score  \n",
       "0      -1293.428558       181.460996  "
      ]
     },
     "execution_count": 34,
     "metadata": {},
     "output_type": "execute_result"
    }
   ],
   "source": [
    "pd.DataFrame(grid_search.cv_results_)"
   ]
  },
  {
   "cell_type": "code",
   "execution_count": 35,
   "metadata": {},
   "outputs": [],
   "source": [
    "train_preds = grid_search.best_estimator_.predict(X_train)\n",
    "train_copy = train_data.copy()\n",
    "train_copy['preds'] = (train_preds)\n",
    "train_copy['Date'] = train['Date']\n",
    "train_copy['Weekly_Sales'] = weekly_sales\n"
   ]
  },
  {
   "cell_type": "markdown",
   "metadata": {},
   "source": []
  },
  {
   "cell_type": "code",
   "execution_count": 36,
   "metadata": {},
   "outputs": [
    {
     "name": "stderr",
     "output_type": "stream",
     "text": [
      "C:\\Users\\shahb\\AnacondaPython\\lib\\site-packages\\pandas\\plotting\\_converter.py:129: FutureWarning: Using an implicitly registered datetime converter for a matplotlib plotting method. The converter was registered by pandas on import. Future versions of pandas will require you to explicitly register matplotlib converters.\n",
      "\n",
      "To register the converters:\n",
      "\t>>> from pandas.plotting import register_matplotlib_converters\n",
      "\t>>> register_matplotlib_converters()\n",
      "  warnings.warn(msg, FutureWarning)\n"
     ]
    },
    {
     "data": {
      "text/plain": [
       "<matplotlib.axes._subplots.AxesSubplot at 0x29b72976cc0>"
      ]
     },
     "execution_count": 36,
     "metadata": {},
     "output_type": "execute_result"
    },
    {
     "data": {
      "image/png": "[encoded data removed]",
      "text/plain": [
       "<Figure size 1296x648 with 1 Axes>"
      ]
     },
     "metadata": {
      "needs_background": "light"
     },
     "output_type": "display_data"
    }
   ],
   "source": [
    "t_1_1 = train_copy[(train_copy.Store==45) & (train_copy.Dept==1)]\n",
    "t_1_1.set_index('Date',inplace=True)\n",
    "fig = plt.figure(figsize=(18,9))\n",
    "sns.lineplot(data=t_1_1[['preds','Weekly_Sales']])"
   ]
  },
  {
   "cell_type": "code",
   "execution_count": 37,
   "metadata": {},
   "outputs": [],
   "source": [
    "all_test_preds = grid_search.best_estimator_.predict(X_test)\n",
    "test_output = test_data.copy()\n",
    "test_output['preds'] = all_test_preds\n",
    "test_output['id'] = test_output['Store'].astype(int).astype(str) + '_' +  test_output['Dept'].astype(int).astype(str) + '_' +  test['Date'].astype(str)\n",
    "test_output = test_output[['id', 'preds']]\n",
    "test_output = test_output.rename(columns={'id': 'Id', 'preds': 'Weekly_Sales'})\n",
    "\n",
    "test_output.to_csv('big_xgb_test_preds.csv', index=False)"
   ]
  },
  {
   "cell_type": "code",
   "execution_count": 38,
   "metadata": {},
   "outputs": [
    {
     "data": {
      "image/png": "[encoded data removed]",
      "text/plain": [
       "<Figure size 432x288 with 1 Axes>"
      ]
     },
     "metadata": {
      "needs_background": "light"
     },
     "output_type": "display_data"
    }
   ],
   "source": [
    "plot_importance(grid_search.best_estimator_,max_num_features=20);"
   ]
  },
  {
   "cell_type": "code",
   "execution_count": 39,
   "metadata": {},
   "outputs": [],
   "source": [
    "train_copy[['Store','Dept','Date','preds']].to_csv('big_xgb_train_preds.csv',index=False)"
   ]
  },
  {
   "cell_type": "code",
   "execution_count": 40,
   "metadata": {},
   "outputs": [
    {
     "data": {
      "text/plain": [
       "1395.7430419208652"
      ]
     },
     "execution_count": 40,
     "metadata": {},
     "output_type": "execute_result"
    }
   ],
   "source": [
    "wmse(train_copy.preds,train_copy.Weekly_Sales,train_copy.IsHoliday)"
   ]
  },
  {
   "cell_type": "code",
   "execution_count": null,
   "metadata": {},
   "outputs": [],
   "source": []
  }
 ],
 "metadata": {
  "hide_input": false,
  "kernelspec": {
   "display_name": "Python 3",
   "language": "python",
   "name": "python3"
  },
  "language_info": {
   "codemirror_mode": {
    "name": "ipython",
    "version": 3
   },
   "file_extension": ".py",
   "mimetype": "text/x-python",
   "name": "python",
   "nbconvert_exporter": "python",
   "pygments_lexer": "ipython3",
   "version": "3.7.1"
  }
 },
 "nbformat": 4,
 "nbformat_minor": 2
}
